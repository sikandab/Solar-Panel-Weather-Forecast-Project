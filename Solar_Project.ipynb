{
  "nbformat": 4,
  "nbformat_minor": 0,
  "metadata": {
    "kernelspec": {
      "display_name": "Python 3",
      "language": "python",
      "name": "python3"
    },
    "language_info": {
      "codemirror_mode": {
        "name": "ipython",
        "version": 3
      },
      "file_extension": ".py",
      "mimetype": "text/x-python",
      "name": "python",
      "nbconvert_exporter": "python",
      "pygments_lexer": "ipython3",
      "version": "3.7.3"
    },
    "colab": {
      "name": "Solar Project.ipynb",
      "provenance": [],
      "collapsed_sections": [
        "znF5yIoxo5Bq",
        "-2gWfoWEo5Br",
        "XfgJMLfEo5Br",
        "EYGRJ-ywo5Bs",
        "KtTW9l9wo5Bt",
        "IYLto8zKo5Bv",
        "sSuX5kC2o5Bx"
      ]
    }
  },
  "cells": [
    {
      "cell_type": "markdown",
      "metadata": {
        "id": "kQqYxezHo5BX"
      },
      "source": [
        "# Introduction"
      ]
    },
    {
      "cell_type": "markdown",
      "metadata": {
        "id": "VhUecxldo5BZ"
      },
      "source": [
        "The issue of climate change has forced governments, institutions and individuals to reevaluate the global energy mix. Climate change calls for a decrease in use of fossil fuels and a monumental increase in use of renewable and carbon free energy sources. The two forms of renewable energy sources that governments tend to promote are solar and wind. Both sources are inherently intermittent and uncontrollable. Therefore it is critical that we develop predictive/analytical tools, which help us better characterize the performance, efficiency and nature of solar and wind. In this project I have built a tool/model that predicts solar generation from weather forecasts. This model would is site specific. The independent variables of the model are: Temperature; Dew Point; Wind Speed; Insolation Clearness Index; Precipitation; Specific Humidity. The dependent variable of the model is: Solar Irradiance. I have used machine learning techniques to derive prediction models that correlate the independent variables to the dependent variable. The machine learning models I used to develop the predictive tool are variants of the Support Vector Machine Regression (SVMR) method. I have built two models, one uses a linear kernel and the other uses a Radial Basis Function Kernel. Towards the end of the document I discuss the accuracy and efficacy of both models."
      ]
    },
    {
      "cell_type": "markdown",
      "metadata": {
        "id": "BEbAIjxTo5Ba"
      },
      "source": [
        "# Method"
      ]
    },
    {
      "cell_type": "markdown",
      "metadata": {
        "id": "WIPP580to5Ba"
      },
      "source": [
        "### Obtaining the Data"
      ]
    },
    {
      "cell_type": "markdown",
      "metadata": {
        "id": "naclCYLto5Bb"
      },
      "source": [
        "The data was obtained from a NASA database. The following is the url of the database: https://power.larc.nasa.gov/data-access-viewer/. The database, lets me obtain data pertaining to Meteorology and Solar Irradiance. I can filter the available data with the following ribbons: Longitude/Latitude, Time Horizon, Temporal Average, Time Horizon and Parameter Selection. For the Longitude/Latitude I chose the coordinates of New York City. My Temporal Average was set to daily and time horizon was set to the following dates: 01/01/2007 to 12/31/2007. I choose 2007 to be my year of investigation as it was the most recent year which had no missing data in reference to my independent variables. The format of the data file outputted by the database was CSV. I saved the CSV file on my local hard-drive and named it 'Solar ML Project Data'.     "
      ]
    },
    {
      "cell_type": "markdown",
      "metadata": {
        "id": "KAGwe5Too5Bb"
      },
      "source": [
        "### Importing the Data on a Jupyter Notebook and creating a Data Frame"
      ]
    },
    {
      "cell_type": "markdown",
      "metadata": {
        "id": "fLW3n9Q7o5Bc"
      },
      "source": [
        "In the following cells, I am importing my data in to the Jupyter notebook. I do not import the headers of the data file and certain obsolete columns. After importing the data I organize the data through the aide of pandas. In the third cell I generate a data frame which consists of the imported data and pre-defined headers of said data."
      ]
    },
    {
      "cell_type": "code",
      "metadata": {
        "id": "XofumDWMo5Bc"
      },
      "source": [
        "import pandas as pd\n",
        "import os"
      ],
      "execution_count": null,
      "outputs": []
    },
    {
      "cell_type": "code",
      "metadata": {
        "id": "YVx4XHF4o5Bd",
        "outputId": "251c4c90-c986-4d17-aa4e-89a3443c2856"
      },
      "source": [
        "pwd"
      ],
      "execution_count": null,
      "outputs": [
        {
          "output_type": "execute_result",
          "data": {
            "text/plain": [
              "'C:\\\\Users\\\\sikan\\\\Desktop'"
            ]
          },
          "metadata": {
            "tags": []
          },
          "execution_count": 218
        }
      ]
    },
    {
      "cell_type": "code",
      "metadata": {
        "id": "e7d7J4neo_k6"
      },
      "source": [
        "df = pd.read_csv(r\"C:\\Users\\sikan\\Desktop\\Reservoir Model Data Transfer\\CMGBuilder1 Pressure Time 2016-01-01.csv\", delimiter=',', skiprows=4, usecols=[1,2],\n",
        "                 names=['X', 'Y'])"
      ],
      "execution_count": null,
      "outputs": []
    },
    {
      "cell_type": "markdown",
      "metadata": {
        "id": "uwePvAuYo5Be"
      },
      "source": [
        "### Extracting and Organizing Relevant Data from Data Frame"
      ]
    },
    {
      "cell_type": "markdown",
      "metadata": {
        "id": "4UJnVCiYo5Be"
      },
      "source": [
        "In the following cells I am isolating the data relevant to each independent and dependent variable. Once I have isolated the data, I categorize the isolated data as a new data frame. I am isolating data for the following independent/dependent variables: Precipitation, Specific Humidity, Dew Point, Temperature, Wind Speed, Solar Irradiance and Insolation Clearness index."
      ]
    },
    {
      "cell_type": "code",
      "metadata": {
        "id": "TyjS-nUzo5Bf",
        "outputId": "d3412daf-2999-4346-d80f-d9ecbdc87159"
      },
      "source": [
        "d1=df['Precipitation']\n",
        "print(d1)"
      ],
      "execution_count": null,
      "outputs": [
        {
          "output_type": "stream",
          "text": [
            "0      35.21\n",
            "1       0.01\n",
            "2       0.00\n",
            "3       0.01\n",
            "4       4.40\n",
            "       ...  \n",
            "360     2.38\n",
            "361     2.49\n",
            "362    11.97\n",
            "363     8.71\n",
            "364     2.80\n",
            "Name: Precipitation, Length: 365, dtype: float64\n"
          ],
          "name": "stdout"
        }
      ]
    },
    {
      "cell_type": "code",
      "metadata": {
        "id": "9nKNCVUYo5Bf",
        "outputId": "5567e1ba-a929-4ebc-cd42-bcbafa9195d0"
      },
      "source": [
        "d2=df['Specific Humidity']\n",
        "print(d2)"
      ],
      "execution_count": null,
      "outputs": [
        {
          "output_type": "stream",
          "text": [
            "0      0.006942\n",
            "1      0.003860\n",
            "2      0.004203\n",
            "3      0.005516\n",
            "4      0.008184\n",
            "         ...   \n",
            "360    0.004192\n",
            "361    0.004061\n",
            "362    0.005123\n",
            "363    0.003649\n",
            "364    0.003682\n",
            "Name: Specific Humidity, Length: 365, dtype: float64\n"
          ],
          "name": "stdout"
        }
      ]
    },
    {
      "cell_type": "code",
      "metadata": {
        "id": "IYMBWT_no5Bg",
        "outputId": "42dccc05-2a95-43d2-b709-e066c1625001"
      },
      "source": [
        "d3=df['Dew Point']\n",
        "print(d3)"
      ],
      "execution_count": null,
      "outputs": [
        {
          "output_type": "stream",
          "text": [
            "0       8.29\n",
            "1       0.12\n",
            "2       1.36\n",
            "3       5.19\n",
            "4      10.88\n",
            "       ...  \n",
            "360     1.35\n",
            "361     0.97\n",
            "362     3.97\n",
            "363    -0.55\n",
            "364    -0.50\n",
            "Name: Dew Point, Length: 365, dtype: float64\n"
          ],
          "name": "stdout"
        }
      ]
    },
    {
      "cell_type": "code",
      "metadata": {
        "id": "KeGge7aJo5Bg",
        "outputId": "39a962ad-606e-484a-8bfd-da114f2aeb34"
      },
      "source": [
        "d4=df['Temprature']\n",
        "print(d4)"
      ],
      "execution_count": null,
      "outputs": [
        {
          "output_type": "stream",
          "text": [
            "0       8.61\n",
            "1       3.16\n",
            "2       3.03\n",
            "3       5.73\n",
            "4      11.13\n",
            "       ...  \n",
            "360     1.90\n",
            "361     3.20\n",
            "362     5.21\n",
            "363     1.06\n",
            "364     0.97\n",
            "Name: Temprature, Length: 365, dtype: float64\n"
          ],
          "name": "stdout"
        }
      ]
    },
    {
      "cell_type": "code",
      "metadata": {
        "id": "KXz3iVzlo5Bg",
        "outputId": "e4d23a4e-ce94-4e08-dd2d-09e0154d2775"
      },
      "source": [
        "d5=df['Wind Speed']\n",
        "print(d5)"
      ],
      "execution_count": null,
      "outputs": [
        {
          "output_type": "stream",
          "text": [
            "0      3.63\n",
            "1      4.44\n",
            "2      3.49\n",
            "3      2.94\n",
            "4      3.60\n",
            "       ... \n",
            "360    2.62\n",
            "361    2.48\n",
            "362    3.29\n",
            "363    2.40\n",
            "364    3.30\n",
            "Name: Wind Speed, Length: 365, dtype: float64\n"
          ],
          "name": "stdout"
        }
      ]
    },
    {
      "cell_type": "code",
      "metadata": {
        "id": "vr9GhyQVo5Bh",
        "outputId": "8e1cbd6b-4bbf-4331-ce90-1c5649843466"
      },
      "source": [
        "d6=df['Solar Irradiance']\n",
        "print(d6)"
      ],
      "execution_count": null,
      "outputs": [
        {
          "output_type": "stream",
          "text": [
            "0      7.77\n",
            "1      6.58\n",
            "2      6.22\n",
            "3      6.86\n",
            "4      8.24\n",
            "       ... \n",
            "360    6.97\n",
            "361    6.01\n",
            "362    7.20\n",
            "363    6.67\n",
            "364    6.25\n",
            "Name: Solar Irradiance, Length: 365, dtype: float64\n"
          ],
          "name": "stdout"
        }
      ]
    },
    {
      "cell_type": "code",
      "metadata": {
        "id": "HPuVn6Hno5Bh",
        "outputId": "ac7d0aad-7ca6-4bd0-fc5b-5f3aca3fbe87"
      },
      "source": [
        "d7=df['Insolation Clearness Index']\n",
        "print(d7)"
      ],
      "execution_count": null,
      "outputs": [
        {
          "output_type": "stream",
          "text": [
            "0      0.13\n",
            "1      0.69\n",
            "2      0.65\n",
            "3      0.55\n",
            "4      0.16\n",
            "       ... \n",
            "360    0.17\n",
            "361    0.66\n",
            "362    0.46\n",
            "363    0.35\n",
            "364    0.67\n",
            "Name: Insolation Clearness Index, Length: 365, dtype: float64\n"
          ],
          "name": "stdout"
        }
      ]
    },
    {
      "cell_type": "markdown",
      "metadata": {
        "id": "4HETOIXko5Bi"
      },
      "source": [
        "The following cell converts the newly formed data frames generated in the previous cells to a numpy array. I do this as it is easier to feed numpy arrays in to the sklearn module than data frames."
      ]
    },
    {
      "cell_type": "code",
      "metadata": {
        "id": "ciZ-uB6fo5Bi",
        "outputId": "c177a410-ba1e-45f7-e243-4c0ba3f4644d"
      },
      "source": [
        "d1a=d1.to_numpy()\n",
        "#print(d1a)\n",
        "d2a=d2.to_numpy()\n",
        "#print(d2a)\n",
        "d3a=d3.to_numpy()\n",
        "#print(d3a)\n",
        "d4a=d4.to_numpy()\n",
        "#print(d4a)\n",
        "d5a=d5.to_numpy()\n",
        "#print(d5a)\n",
        "d6a=d6.to_numpy()\n",
        "#print(d6a)\n",
        "d7a=d7.to_numpy()\n",
        "print(d7a)"
      ],
      "execution_count": null,
      "outputs": [
        {
          "output_type": "stream",
          "text": [
            "[0.13 0.69 0.65 0.55 0.16 0.48 0.54 0.08 0.43 0.53 0.6  0.26 0.22 0.18\n",
            " 0.13 0.19 0.76 0.33 0.6  0.52 0.47 0.21 0.55 0.48 0.66 0.71 0.23 0.48\n",
            " 0.63 0.61 0.75 0.48 0.43 0.66 0.72 0.7  0.73 0.72 0.77 0.68 0.76 0.75\n",
            " 0.48 0.34 0.13 0.52 0.65 0.7  0.55 0.73 0.31 0.7  0.28 0.65 0.77 0.35\n",
            " 0.18 0.37 0.7  0.56 0.47 0.54 0.39 0.51 0.74 0.3  0.58 0.69 0.37 0.64\n",
            " 0.67 0.5  0.54 0.13 0.09 0.4  0.52 0.34 0.59 0.54 0.53 0.13 0.4  0.61\n",
            " 0.4  0.6  0.65 0.77 0.68 0.38 0.14 0.47 0.67 0.05 0.51 0.43 0.5  0.47\n",
            " 0.68 0.68 0.59 0.11 0.19 0.6  0.02 0.2  0.3  0.34 0.29 0.78 0.72 0.76\n",
            " 0.72 0.6  0.42 0.45 0.09 0.39 0.41 0.67 0.35 0.56 0.74 0.71 0.72 0.67\n",
            " 0.72 0.75 0.64 0.35 0.43 0.54 0.75 0.72 0.66 0.43 0.48 0.33 0.33 0.46\n",
            " 0.75 0.7  0.67 0.73 0.72 0.58 0.58 0.46 0.77 0.75 0.64 0.5  0.53 0.25\n",
            " 0.18 0.49 0.64 0.63 0.62 0.56 0.34 0.53 0.44 0.24 0.21 0.49 0.55 0.64\n",
            " 0.61 0.55 0.45 0.67 0.62 0.75 0.71 0.33 0.6  0.51 0.55 0.32 0.67 0.59\n",
            " 0.65 0.67 0.17 0.26 0.58 0.66 0.67 0.66 0.51 0.29 0.71 0.52 0.68 0.54\n",
            " 0.47 0.68 0.27 0.33 0.56 0.69 0.66 0.12 0.66 0.63 0.55 0.51 0.5  0.19\n",
            " 0.52 0.71 0.67 0.67 0.59 0.67 0.7  0.3  0.45 0.56 0.53 0.13 0.74 0.69\n",
            " 0.64 0.71 0.56 0.41 0.48 0.73 0.14 0.07 0.05 0.14 0.22 0.33 0.55 0.39\n",
            " 0.61 0.63 0.61 0.57 0.37 0.67 0.76 0.67 0.73 0.65 0.62 0.63 0.63 0.58\n",
            " 0.48 0.12 0.69 0.68 0.28 0.54 0.62 0.69 0.68 0.71 0.65 0.68 0.32 0.75\n",
            " 0.75 0.72 0.62 0.52 0.34 0.71 0.66 0.44 0.55 0.51 0.61 0.45 0.59 0.46\n",
            " 0.65 0.32 0.5  0.12 0.6  0.67 0.62 0.68 0.61 0.44 0.56 0.19 0.64 0.7\n",
            " 0.69 0.38 0.12 0.29 0.11 0.16 0.59 0.69 0.67 0.66 0.42 0.69 0.3  0.56\n",
            " 0.69 0.45 0.51 0.55 0.41 0.27 0.69 0.17 0.45 0.23 0.06 0.45 0.46 0.17\n",
            " 0.12 0.18 0.36 0.45 0.66 0.65 0.7  0.16 0.39 0.68 0.44 0.67 0.63 0.13\n",
            " 0.57 0.42 0.16 0.57 0.09 0.53 0.07 0.1  0.26 0.21 0.04 0.51 0.54 0.13\n",
            " 0.61 0.65 0.4  0.64 0.24 0.25 0.15 0.62 0.54 0.23 0.17 0.66 0.46 0.35\n",
            " 0.67]\n"
          ],
          "name": "stdout"
        }
      ]
    },
    {
      "cell_type": "markdown",
      "metadata": {
        "id": "7CDgS6eco5Bi"
      },
      "source": [
        "The following cell consists of a ‘for’ loop. This loop generates a list. The list has 365 sublists. Each sublist consists of six numbers. Each number corresponds to the value of one of six independent variables. Each sublist represents a different day of the year, 2007.   "
      ]
    },
    {
      "cell_type": "code",
      "metadata": {
        "id": "Xdz2a7Rvo5Bq",
        "outputId": "9d07f417-f7b5-4aba-bd1d-44cb29ed3660"
      },
      "source": [
        "import numpy as np\n",
        "l1=[]\n",
        "i=0\n",
        "for i in range (0, 365):\n",
        "    l1.insert(i, [d1a[i],d2a[i],d3a[i], d4a[i], d5a[i], d7a[i]])\n",
        "    i=i+1\n",
        "print(l1)\n"
      ],
      "execution_count": null,
      "outputs": [
        {
          "output_type": "stream",
          "text": [
            "[[35.21, 0.006942, 8.29, 8.61, 3.63, 0.13], [0.01, 0.00386, 0.12, 3.16, 4.44, 0.69], [0.0, 0.004203, 1.36, 3.03, 3.49, 0.65], [0.01, 0.005516, 5.19, 5.73, 2.94, 0.55], [4.4, 0.008184, 10.88, 11.13, 3.6, 0.16], [1.02, 0.00905, 12.22, 13.9, 4.69, 0.48], [8.31, 0.004765, 3.16, 5.91, 2.74, 0.54], [24.97, 0.006051, 5.67, 7.6, 5.21, 0.08], [0.03, 0.00328, -2.07, 0.87, 3.82, 0.43], [0.04, 0.0025210000000000002, -5.37, -1.63, 4.52, 0.53], [0.0, 0.002538, -5.07, -1.45, 2.69, 0.6], [0.0, 0.004384000000000001, 2.01, 3.24, 3.67, 0.26], [2.53, 0.005884, 6.12, 6.65, 2.77, 0.22], [3.31, 0.005364, 4.84, 5.46, 1.83, 0.18], [1.94, 0.0057929999999999995, 5.59, 5.82, 2.5, 0.13], [0.29, 0.0036880000000000003, -1.85, 1.74, 5.33, 0.19], [0.0, 0.0016539999999999999, -10.23, -5.09, 4.05, 0.76], [0.47, 0.0029850000000000002, -3.49, -1.31, 2.07, 0.33], [1.33, 0.0033369999999999997, -1.86, 0.43, 4.39, 0.6], [0.09, 0.001994, -8.36, -3.91, 6.83, 0.52], [0.03, 0.001745, -9.72, -5.53, 2.26, 0.47], [0.06, 0.002778, -4.27, -1.95, 1.06, 0.21], [0.0, 0.002709, -4.54, -1.94, 3.24, 0.55], [0.03, 0.002978, -3.26, -0.49, 2.63, 0.48], [0.15, 0.002285, -7.06, -3.39, 3.78, 0.66], [0.0, 0.0012029999999999999, -14.04, -9.61, 5.42, 0.71], [0.11, 0.0028079999999999997, -4.65, -2.2, 2.39, 0.23], [0.78, 0.003421, -1.64, 1.23, 1.73, 0.48], [0.35, 0.001973, -8.52, -4.55, 5.16, 0.63], [0.37, 0.002341, -6.52, -3.66, 3.17, 0.61], [0.03, 0.002173, -7.2, -3.88, 4.02, 0.75], [0.04, 0.002482, -5.63, -3.08, 2.85, 0.48], [3.79, 0.003564, -1.16, -0.08, 2.11, 0.43], [0.0, 0.001929, -8.9, -4.12, 5.33, 0.66], [0.0, 0.001398, -12.38, -7.56, 5.4, 0.72], [0.0, 0.0009880000000000002, -15.95, -11.55, 6.52, 0.7], [0.0, 0.001256, -13.4, -10.05, 4.67, 0.73], [0.02, 0.001332, -12.78, -8.83, 4.11, 0.72], [0.0, 0.001466, -11.75, -8.5, 5.18, 0.77], [0.0, 0.001691, -10.13, -6.55, 5.38, 0.68], [0.0, 0.001865, -8.94, -5.48, 3.66, 0.76], [0.0, 0.001802, -9.36, -5.85, 3.24, 0.75], [0.0, 0.0025440000000000003, -5.29, -2.54, 3.3, 0.48], [2.16, 0.001795, -9.46, -5.32, 4.18, 0.34], [22.75, 0.0024219999999999997, -6.61, -5.58, 8.05, 0.13], [0.0, 0.001478, -11.65, -10.03, 6.39, 0.52], [0.06, 0.0016649999999999998, -10.48, -9.08, 5.76, 0.65], [0.18, 0.002022, -8.7, -6.81, 3.66, 0.7], [0.05, 0.002147, -7.59, -5.78, 4.4, 0.55], [0.0, 0.001495, -11.58, -9.48, 5.3, 0.73], [1.16, 0.003607, -1.06, 0.16, 3.54, 0.31], [0.41, 0.003625, -0.73, 1.28, 2.84, 0.7], [4.14, 0.00392, 0.17, 1.34, 2.96, 0.28], [0.05, 0.00233, -6.63, -2.71, 7.27, 0.65], [0.0, 0.002139, -7.61, -3.98, 5.91, 0.77], [9.67, 0.002466, -5.79, -2.86, 1.84, 0.35], [9.24, 0.003406, -1.6, -0.74, 2.37, 0.18], [0.22, 0.0034770000000000005, -1.31, 0.0, 1.81, 0.37], [0.01, 0.0031940000000000002, -2.3, 0.15, 3.02, 0.7], [2.56, 0.00331, -1.96, 1.07, 2.81, 0.56], [44.99, 0.005640999999999999, 4.89, 6.8, 5.52, 0.47], [0.08, 0.004124, 0.84, 3.69, 2.35, 0.54], [0.01, 0.002846, -3.94, -0.13, 4.64, 0.39], [0.12, 0.002381, -6.29, -1.1, 6.47, 0.51], [0.01, 0.001072, -15.05, -9.44, 6.89, 0.74], [1.09, 0.001418, -12.09, -8.9, 1.92, 0.3], [0.0, 0.0016690000000000001, -10.21, -6.36, 4.43, 0.58], [0.0, 0.0017469999999999999, -10.2, -5.4, 2.33, 0.69], [2.54, 0.004683, 2.37, 2.77, 3.69, 0.37], [2.31, 0.004034, 0.86, 3.32, 3.54, 0.64], [0.0, 0.003875, 0.18, 4.14, 2.41, 0.67], [0.0, 0.0051719999999999995, 4.21, 5.95, 3.25, 0.5], [1.3, 0.00773, 9.74, 10.88, 3.39, 0.54], [3.35, 0.006729000000000001, 7.53, 8.78, 3.97, 0.13], [38.87, 0.003139, -2.61, -1.47, 6.6, 0.09], [3.43, 0.002758, -4.46, -3.51, 5.17, 0.4], [0.09, 0.0026969999999999997, -4.61, -3.53, 4.67, 0.52], [1.32, 0.002997, -3.53, -2.32, 3.71, 0.34], [0.21, 0.003483, -1.3, 0.81, 4.43, 0.59], [0.0, 0.002594, -5.31, -1.67, 3.06, 0.54], [1.41, 0.006593000000000001, 7.25, 8.19, 4.28, 0.53], [3.19, 0.0066549999999999995, 7.85, 8.99, 2.21, 0.13], [2.18, 0.00483, 3.43, 6.47, 2.69, 0.4], [0.15, 0.004821, 3.48, 6.33, 2.65, 0.61], [0.53, 0.005201, 4.36, 5.72, 3.13, 0.4], [0.21, 0.008418, 11.2, 13.38, 3.21, 0.6], [0.0, 0.005383, 4.75, 9.41, 3.55, 0.65], [0.0, 0.003296, -1.8, 4.15, 4.61, 0.77], [0.0, 0.004027, 0.58, 6.64, 2.78, 0.68], [0.01, 0.0038810000000000003, 0.3, 4.99, 2.33, 0.38], [5.49, 0.004765999999999999, 3.14, 5.23, 2.44, 0.14], [0.32, 0.005978, 6.14, 7.99, 1.8, 0.47], [0.03, 0.005686, 5.69, 9.02, 2.29, 0.67], [21.22, 0.0049770000000000005, 3.65, 4.51, 4.2, 0.05], [0.09, 0.003148, -2.79, 1.94, 5.06, 0.51], [0.0, 0.00279, -4.19, 0.48, 3.38, 0.43], [0.01, 0.002542, -5.4, 0.12, 3.16, 0.5], [0.0, 0.002707, -4.52, 0.18, 4.47, 0.47], [0.0, 0.002956, -3.37, 1.49, 3.39, 0.68], [0.0, 0.003117, -2.65, 2.22, 3.2, 0.68], [0.13, 0.0034659999999999995, -1.34, 4.08, 2.54, 0.59], [29.1, 0.004755, 2.92, 3.77, 3.97, 0.11], [0.01, 0.004225, 1.41, 4.87, 4.94, 0.19], [1.59, 0.004072999999999999, 0.86, 5.58, 2.79, 0.6], [103.09, 0.005875, 5.54, 5.9, 4.61, 0.02], [26.61, 0.004954999999999999, 3.09, 4.47, 4.28, 0.2], [0.84, 0.00485, 3.17, 5.76, 5.33, 0.3], [0.25, 0.005169, 4.16, 6.63, 3.44, 0.34], [0.41, 0.005658, 5.53, 8.4, 2.02, 0.29], [0.0, 0.005529, 5.22, 9.94, 2.21, 0.78], [0.0, 0.006111999999999999, 6.63, 12.45, 2.32, 0.72], [0.0, 0.006591, 7.77, 13.63, 1.95, 0.76], [0.0, 0.009259, 12.61, 15.75, 3.38, 0.72], [0.0, 0.00859, 11.53, 15.56, 3.4, 0.6], [5.51, 0.006103, 6.61, 10.71, 2.35, 0.42], [1.03, 0.005849, 6.12, 9.47, 2.72, 0.45], [38.48, 0.008171, 10.71, 11.79, 1.73, 0.09], [0.66, 0.008032, 10.59, 12.97, 2.36, 0.39], [0.34, 0.007354, 9.31, 12.41, 2.67, 0.41], [0.04, 0.0071719999999999996, 8.84, 13.31, 3.81, 0.67], [5.7, 0.006591, 7.62, 12.08, 2.14, 0.35], [4.14, 0.007199, 9.04, 12.94, 2.41, 0.56], [0.0, 0.00539, 4.85, 12.1, 1.91, 0.74], [0.0, 0.0054399999999999995, 5.02, 12.2, 2.06, 0.71], [0.01, 0.006239, 6.9, 13.26, 1.42, 0.72], [0.01, 0.005027, 4.01, 9.41, 4.09, 0.67], [0.0, 0.005222, 4.61, 10.05, 2.0, 0.72], [0.0, 0.006624, 7.44, 12.58, 1.95, 0.75], [0.01, 0.010570999999999999, 14.73, 17.36, 2.51, 0.64], [1.6, 0.011601, 16.25, 18.43, 2.44, 0.35], [1.33, 0.010828, 15.17, 18.88, 1.38, 0.43], [2.73, 0.009095, 12.5, 16.57, 2.32, 0.54], [1.85, 0.006062, 6.42, 12.69, 3.13, 0.75], [0.01, 0.005817, 5.89, 12.35, 2.52, 0.72], [0.0, 0.010172, 13.91, 17.81, 4.47, 0.66], [11.85, 0.012367, 17.14, 19.63, 3.81, 0.43], [0.29, 0.007722, 10.11, 14.11, 2.29, 0.48], [1.36, 0.006417, 7.48, 10.64, 3.88, 0.33], [3.2, 0.006813, 8.26, 11.32, 2.89, 0.33], [1.22, 0.008393000000000001, 11.18, 15.5, 3.52, 0.46], [0.0, 0.006813, 8.26, 13.88, 2.63, 0.75], [0.0, 0.007162000000000001, 9.05, 14.7, 1.53, 0.7], [0.04, 0.00892, 12.48, 16.09, 2.7, 0.67], [0.01, 0.01015, 14.37, 18.64, 2.85, 0.73], [0.0, 0.010895, 15.44, 21.12, 2.65, 0.72], [0.02, 0.012493, 17.52, 21.87, 2.1, 0.58], [2.93, 0.011856, 16.6, 20.83, 1.95, 0.58], [0.38, 0.012364, 17.33, 21.15, 2.39, 0.46], [0.0, 0.008754000000000001, 12.09, 18.64, 1.74, 0.77], [0.0, 0.009593, 13.44, 20.13, 1.4, 0.75], [1.1, 0.012491, 17.46, 22.49, 1.59, 0.64], [2.35, 0.014122, 19.41, 22.67, 1.9, 0.5], [1.38, 0.014074000000000001, 19.33, 22.97, 2.59, 0.53], [17.16, 0.012529, 17.43, 19.48, 3.25, 0.25], [28.05, 0.012676999999999999, 17.42, 18.85, 3.28, 0.18], [0.88, 0.012261, 16.92, 20.67, 3.19, 0.49], [0.0, 0.007418999999999999, 9.41, 15.16, 2.77, 0.64], [0.0, 0.008997, 12.17, 17.27, 1.76, 0.63], [0.06, 0.013777000000000001, 18.89, 21.7, 1.84, 0.62], [0.17, 0.013321000000000001, 18.4, 21.8, 2.32, 0.56], [0.41, 0.011049, 15.59, 18.9, 1.53, 0.34], [2.6, 0.011929, 16.75, 20.9, 1.77, 0.53], [4.92, 0.013383, 18.57, 21.55, 1.84, 0.44], [0.77, 0.010537999999999999, 14.79, 17.69, 2.6, 0.24], [0.02, 0.008094, 10.87, 15.09, 2.29, 0.21], [0.01, 0.009444, 13.17, 17.59, 1.54, 0.49], [2.97, 0.010916, 15.38, 19.97, 1.42, 0.55], [0.02, 0.012265, 17.08, 22.34, 2.36, 0.64], [0.01, 0.012409, 17.38, 22.88, 1.8, 0.61], [2.66, 0.013997999999999998, 19.23, 22.67, 2.62, 0.55], [11.23, 0.011895999999999999, 16.45, 20.8, 2.74, 0.45], [7.21, 0.010175, 14.01, 19.65, 2.69, 0.67], [0.0, 0.0087, 11.64, 18.39, 3.85, 0.62], [0.0, 0.006814, 8.16, 16.51, 3.0, 0.75], [0.0, 0.008642, 11.46, 19.01, 2.01, 0.71], [0.1, 0.01311, 18.25, 21.65, 2.61, 0.33], [0.03, 0.014235, 19.64, 25.78, 1.97, 0.6], [34.37, 0.016926, 22.37, 25.9, 2.57, 0.51], [5.3, 0.016643, 22.04, 24.87, 2.44, 0.55], [1.16, 0.011812000000000001, 16.54, 21.16, 1.74, 0.32], [0.23, 0.00903, 12.29, 20.41, 1.74, 0.67], [0.04, 0.008048999999999999, 10.66, 18.1, 2.85, 0.59], [0.0, 0.007437999999999999, 9.57, 17.37, 2.53, 0.65], [0.0, 0.008375, 11.34, 19.6, 2.05, 0.67], [17.15, 0.012097, 16.96, 18.9, 3.87, 0.17], [11.87, 0.014769999999999998, 20.11, 21.88, 3.22, 0.26], [2.36, 0.012804, 17.78, 22.48, 2.19, 0.58], [0.0, 0.01123, 15.76, 22.37, 2.37, 0.66], [0.0, 0.012668, 17.57, 24.24, 2.84, 0.67], [0.02, 0.013314, 18.37, 25.88, 2.12, 0.66], [1.0, 0.015637, 20.93, 26.69, 2.38, 0.51], [15.15, 0.01701, 22.32, 24.74, 2.2, 0.29], [0.18, 0.009945, 13.65, 21.66, 2.64, 0.71], [0.23, 0.010803, 15.11, 22.06, 2.43, 0.52], [0.0, 0.011071, 15.45, 22.18, 2.4, 0.68], [1.86, 0.013812999999999999, 18.97, 24.34, 3.07, 0.54], [0.32, 0.012229, 17.05, 23.22, 1.42, 0.47], [1.36, 0.012473, 17.28, 24.49, 1.37, 0.68], [21.51, 0.015981, 21.37, 23.44, 1.8, 0.27], [5.2, 0.015055, 20.26, 23.8, 2.5, 0.33], [0.07, 0.011321, 15.39, 22.45, 3.24, 0.56], [0.0, 0.009577, 13.34, 21.66, 2.77, 0.69], [0.54, 0.010124, 14.16, 21.78, 2.52, 0.66], [46.98, 0.012672, 17.61, 19.23, 3.08, 0.12], [0.26, 0.011686, 16.42, 20.54, 2.29, 0.66], [0.23, 0.013247, 18.49, 22.43, 1.86, 0.63], [0.07, 0.014332, 19.71, 23.74, 1.3, 0.55], [6.4, 0.015281999999999999, 20.67, 23.49, 1.9, 0.51], [3.26, 0.015543000000000001, 20.88, 24.77, 1.64, 0.5], [8.63, 0.015378999999999999, 20.65, 23.73, 1.01, 0.19], [1.74, 0.014586000000000002, 19.88, 24.42, 0.9, 0.52], [0.01, 0.013038999999999999, 18.09, 24.87, 1.62, 0.71], [0.0, 0.013565, 18.75, 26.4, 1.31, 0.67], [0.0, 0.013674, 18.85, 27.45, 1.77, 0.67], [7.29, 0.015347999999999999, 20.73, 26.18, 2.86, 0.59], [0.44, 0.013644, 18.65, 25.77, 1.72, 0.67], [0.06, 0.011188, 15.65, 23.23, 2.16, 0.7], [1.79, 0.016008, 21.34, 25.39, 2.28, 0.3], [9.85, 0.015755, 21.03, 27.14, 1.51, 0.45], [26.99, 0.018251, 23.4, 27.17, 2.96, 0.56], [4.76, 0.013453, 18.59, 23.66, 2.47, 0.53], [22.08, 0.01311, 17.93, 19.53, 3.75, 0.13], [0.06, 0.010466, 14.64, 20.15, 1.94, 0.74], [0.11, 0.013057, 18.17, 23.92, 1.58, 0.69], [0.05, 0.012495000000000001, 17.36, 23.68, 2.38, 0.64], [0.0, 0.008761, 11.89, 21.52, 1.78, 0.71], [0.0, 0.011521, 15.99, 22.7, 2.75, 0.56], [0.68, 0.014712000000000001, 20.0, 24.83, 2.36, 0.41], [13.33, 0.013591999999999998, 18.62, 24.19, 2.06, 0.48], [0.0, 0.008219, 10.96, 18.54, 3.2, 0.73], [3.87, 0.009142, 12.65, 18.13, 1.31, 0.14], [7.95, 0.010808, 15.31, 17.87, 2.94, 0.07], [27.15, 0.010074, 14.25, 15.51, 3.82, 0.05], [0.74, 0.010581, 14.94, 17.29, 2.3, 0.14], [0.08, 0.012791, 17.89, 20.43, 1.59, 0.22], [0.03, 0.015202, 20.56, 23.62, 2.32, 0.33], [2.18, 0.017477, 22.8, 25.06, 2.4, 0.55], [0.34, 0.014986000000000001, 20.27, 23.92, 1.64, 0.39], [0.0, 0.012236, 17.21, 22.47, 1.78, 0.61], [0.0, 0.012462, 17.54, 22.56, 1.48, 0.63], [0.0, 0.012355, 17.38, 22.74, 1.57, 0.61], [0.43, 0.013153, 18.29, 23.42, 1.56, 0.57], [0.46, 0.013402, 18.51, 22.95, 2.1, 0.37], [0.0, 0.008714, 11.95, 20.05, 2.85, 0.67], [0.0, 0.00796, 10.55, 18.81, 1.88, 0.76], [0.0, 0.01093, 15.38, 21.14, 2.94, 0.67], [0.0, 0.009891, 13.73, 22.24, 2.13, 0.73], [0.0, 0.009496, 13.2, 21.23, 1.89, 0.65], [0.0, 0.011895999999999999, 16.8, 22.33, 2.55, 0.62], [0.0, 0.013822, 19.19, 24.33, 3.18, 0.63], [0.97, 0.013876, 19.2, 24.93, 3.11, 0.63], [0.07, 0.013358000000000002, 18.45, 23.94, 2.31, 0.58], [2.99, 0.015188, 20.57, 24.11, 0.86, 0.48], [16.05, 0.015638, 20.88, 22.17, 2.81, 0.12], [0.0, 0.008055, 10.59, 18.67, 3.07, 0.69], [0.0, 0.008061, 10.77, 18.13, 1.85, 0.68], [1.5, 0.010173, 14.25, 19.44, 3.03, 0.28], [1.0, 0.008734, 11.22, 17.33, 3.1, 0.54], [0.0, 0.005715, 5.78, 14.08, 1.74, 0.62], [0.0, 0.006234, 7.05, 14.29, 2.1, 0.69], [0.0, 0.006781999999999999, 8.29, 15.32, 2.24, 0.68], [0.0, 0.007941, 10.6, 17.04, 1.6, 0.71], [0.0, 0.00891, 12.26, 19.7, 1.82, 0.65], [0.0, 0.009812999999999999, 13.68, 20.85, 1.69, 0.68], [3.4, 0.013561000000000002, 18.78, 20.72, 2.26, 0.32], [0.01, 0.008201, 10.58, 20.12, 2.57, 0.75], [0.0, 0.0074010000000000005, 9.41, 19.37, 2.12, 0.75], [0.0, 0.010017, 14.0, 21.32, 2.9, 0.72], [0.0, 0.012385, 17.35, 23.85, 3.0, 0.62], [0.37, 0.013816, 19.04, 22.98, 2.76, 0.52], [0.83, 0.010597, 14.44, 20.66, 2.81, 0.34], [0.03, 0.007233, 9.16, 17.85, 2.94, 0.71], [0.0, 0.0077480000000000005, 10.3, 16.84, 2.12, 0.66], [0.0, 0.008334999999999999, 11.5, 16.69, 2.59, 0.44], [0.01, 0.010449, 14.8, 18.06, 2.4, 0.55], [0.01, 0.012794, 17.93, 21.02, 2.12, 0.51], [0.0, 0.01188, 16.69, 22.4, 1.71, 0.61], [0.01, 0.011343, 16.05, 21.64, 1.73, 0.45], [0.1, 0.010941, 15.43, 21.55, 2.16, 0.59], [0.04, 0.011629, 16.37, 21.79, 2.37, 0.46], [0.23, 0.012591, 17.57, 23.76, 2.97, 0.65], [14.05, 0.012010999999999999, 16.65, 20.26, 2.91, 0.32], [6.91, 0.010757, 14.7, 18.93, 1.24, 0.5], [28.22, 0.011164, 15.47, 16.87, 3.21, 0.12], [5.15, 0.0065049999999999995, 6.93, 12.2, 4.46, 0.6], [0.0, 0.005074, 3.97, 10.43, 2.74, 0.67], [0.0, 0.005717, 5.72, 11.36, 3.01, 0.62], [0.0, 0.006536, 7.73, 12.97, 2.25, 0.68], [0.0, 0.007084, 8.77, 15.1, 1.49, 0.61], [0.0, 0.009871, 13.79, 17.29, 1.86, 0.44], [0.02, 0.011636, 16.28, 18.96, 2.6, 0.56], [24.73, 0.014894999999999999, 20.13, 20.7, 4.05, 0.19], [2.86, 0.008875, 11.79, 16.82, 3.41, 0.64], [0.0, 0.007298000000000001, 9.27, 15.3, 2.49, 0.7], [0.0, 0.009238, 12.74, 16.49, 2.81, 0.69], [0.63, 0.012331, 17.22, 20.12, 4.41, 0.38], [4.86, 0.009725, 13.46, 15.88, 2.39, 0.12], [6.09, 0.007243, 9.28, 11.88, 3.83, 0.29], [13.79, 0.007951999999999999, 10.52, 12.95, 3.85, 0.11], [37.83, 0.011264, 15.57, 16.83, 3.89, 0.16], [0.24, 0.0050609999999999995, 3.83, 9.16, 3.9, 0.59], [0.0, 0.004004, 0.82, 6.07, 2.35, 0.69], [0.0, 0.00536, 4.83, 9.07, 2.11, 0.67], [0.0, 0.006442, 7.47, 10.44, 2.85, 0.66], [0.0, 0.007495, 9.44, 11.63, 3.24, 0.42], [0.0, 0.0045049999999999995, 2.38, 7.24, 3.61, 0.69], [0.16, 0.004621, 2.53, 6.98, 5.21, 0.3], [0.0, 0.004922, 3.47, 7.07, 2.7, 0.56], [0.06, 0.005036, 3.81, 8.0, 2.65, 0.69], [9.74, 0.005195, 3.71, 8.42, 4.31, 0.45], [0.0, 0.00372, -0.32, 4.56, 3.61, 0.51], [0.0, 0.00305, -2.89, 2.88, 1.33, 0.55], [3.14, 0.004021, 0.54, 4.44, 1.57, 0.41], [2.47, 0.004354, 1.87, 3.88, 3.2, 0.27], [0.0, 0.0030210000000000002, -3.0, 2.39, 2.52, 0.69], [1.92, 0.004607, 2.35, 5.49, 1.77, 0.17], [2.63, 0.006201, 6.83, 8.86, 2.3, 0.45], [0.72, 0.0071400000000000005, 8.6, 9.07, 2.79, 0.23], [11.83, 0.007123, 8.14, 9.3, 4.23, 0.06], [0.1, 0.003675, -0.85, 4.21, 5.31, 0.45], [0.03, 0.003525, -1.03, 2.6, 2.75, 0.46], [2.24, 0.0038929999999999998, 0.42, 3.25, 2.8, 0.17], [3.7, 0.004183, 1.45, 2.96, 3.43, 0.12], [3.63, 0.005375, 4.8, 5.32, 2.44, 0.18], [0.22, 0.006938, 8.29, 8.6, 1.93, 0.36], [0.81, 0.007807, 9.55, 11.52, 3.98, 0.45], [0.01, 0.002539, -5.31, 0.6, 4.28, 0.66], [0.02, 0.002315, -6.3, -1.37, 2.11, 0.65], [0.89, 0.003239, -2.13, 2.09, 2.53, 0.7], [24.47, 0.0062450000000000006, 6.64, 6.99, 2.22, 0.16], [2.63, 0.006046, 5.68, 8.98, 4.58, 0.39], [0.0, 0.003047, -2.88, 2.53, 2.71, 0.68], [0.5, 0.004581, 2.42, 4.54, 3.57, 0.44], [0.0, 0.002801, -4.0, 1.04, 3.23, 0.67], [0.18, 0.002163, -7.34, -1.19, 4.17, 0.63], [11.36, 0.002844, -4.42, -1.47, 1.89, 0.13], [5.44, 0.004085, 0.43, 3.06, 5.48, 0.57], [0.27, 0.002338, -6.45, -1.55, 5.98, 0.42], [0.44, 0.002516, -5.51, -2.67, 2.19, 0.16], [0.0, 0.002102, -7.54, -3.6, 2.9, 0.57], [0.53, 0.00265, -4.73, -2.45, 2.24, 0.09], [0.22, 0.0036450000000000002, -0.55, 0.8, 2.44, 0.53], [4.46, 0.003503, -1.05, 1.17, 1.51, 0.07], [5.54, 0.004299, 1.76, 2.18, 1.59, 0.1], [0.85, 0.004128, 1.04, 2.25, 2.25, 0.26], [0.45, 0.004554, 1.92, 4.58, 4.42, 0.21], [21.83, 0.003078, -2.88, -1.37, 2.58, 0.04], [0.08, 0.003225, -2.37, -1.54, 3.09, 0.51], [0.8, 0.002326, -6.33, -3.64, 3.86, 0.54], [22.82, 0.004002, 0.23, 0.7, 5.98, 0.13], [0.05, 0.002321, -6.43, -4.44, 5.95, 0.61], [0.0, 0.0023870000000000002, -6.17, -4.26, 2.67, 0.65], [1.98, 0.0034770000000000005, -1.36, -0.19, 2.27, 0.4], [0.01, 0.003358, -1.7, -0.75, 3.06, 0.64], [0.34, 0.00358, -0.78, -0.07, 3.4, 0.24], [0.69, 0.004009, 0.75, 1.23, 2.79, 0.25], [22.95, 0.006645, 7.55, 7.86, 5.92, 0.15], [0.0, 0.003361, -1.72, 2.25, 4.37, 0.62], [0.0, 0.003356, -1.59, 0.67, 2.62, 0.54], [6.43, 0.0035090000000000004, -1.05, -0.02, 2.81, 0.23], [2.38, 0.004192, 1.35, 1.9, 2.62, 0.17], [2.49, 0.004061, 0.97, 3.2, 2.48, 0.66], [11.97, 0.005123, 3.97, 5.21, 3.29, 0.46], [8.71, 0.0036490000000000003, -0.55, 1.06, 2.4, 0.35], [2.8, 0.003682, -0.5, 0.97, 3.3, 0.67]]\n"
          ],
          "name": "stdout"
        }
      ]
    },
    {
      "cell_type": "markdown",
      "metadata": {
        "id": "znF5yIoxo5Bq"
      },
      "source": [
        "### Understanding Support Vector Machine- Regression Using a Linear Kernel"
      ]
    },
    {
      "cell_type": "markdown",
      "metadata": {
        "id": "CXlh7Kjro5Bq"
      },
      "source": [
        "In SVM regression using a linear kernel, the input 'x' is first mapped onto a m-dimensional feature space using fixed (nonlinear) mapping, thereafter a linear model is constructed in this feature space. Using mathematical notation, the linear model generated in the feature space is given by:\n",
        "\n",
        "$$f(x,w)=\\sum_{j=1}^{m}w_{j}g_{j}(x) +b$$\n",
        "\n",
        "The $g_{j}(x), j=1,..,m$ represents a number of non-linear transformations and 'b' is a bias term. When the data is pre-processed resulting in the data to have a zero mean the bias term can be neglected. The quality of linear model is dependent on an epsilon insensitive loss function developed by Vapnik .The following is the insensitive loss function:\n",
        "\n",
        "$$ L(y, f(x,w))=\\left\\{\\begin{matrix} 0\\ if  \\left | y-f(x,w) \\right |\\leq \\varepsilon \\\\ \\left | y-f(x,w) \\right |-\\varepsilon\\ otherwise \\end{matrix}\\right.$$\n",
        "\n",
        "\n",
        "SVM regression performs linear regression in the high-dimension feature space using epsilon insensitive loss. At the same time it tries to reduce model complexity by minimizing $\\left \\| w^{2} \\right \\|$ and tries to account for sparse data by minimizing cumulative penalty cost associated with the data points situated outside the epsilon margins . The mathematical representation of the minimization formulations is the following:\n",
        "\n",
        "$$ min \\frac{1}{2} \\left \\| w^{2} \\right \\|+C\\sum_{i=1}^{n}(\\xi _{i}+\\xi _{i}^{*}) $$\n",
        "$$st\\left\\{\\begin{matrix}\n",
        "y_{i}-f(x_{i},w)\\leq \\varepsilon +\\xi _{i}^{*}\\\\f(x_{i},w)-y_{i}\\leq \\varepsilon +\\xi _{i} \n",
        "\\\\ \\xi ,\\xi _{i}^{*}\\geq 0, i=1,..,n\n",
        "\\end{matrix}\\right.$$\n",
        "\n",
        "The $ \\xi ,\\xi _{i}^{*}\\geq 0, i=1,..,n$ are slack variables that measure the level of deviation of the points situated outside the epsilon margins. 'C' is a positive cost parameter that controls the penalty imposed on the data points outside the epsilon margin.   \n",
        "\n",
        "![image.png](attachment:image.png)"
      ]
    },
    {
      "cell_type": "markdown",
      "metadata": {
        "id": "-2gWfoWEo5Br"
      },
      "source": [
        "### Understanding Support Vector Machine- Regression Using a Radial Basis Function Kernel"
      ]
    },
    {
      "cell_type": "markdown",
      "metadata": {
        "id": "89qAUHz7o5Br"
      },
      "source": [
        "The minimization formulation illustrated in the previous section can be transformed in to its dual formulation. The solution of the dual formulation is the following:\n",
        "$$f(x)=\\sum_{i=1}^{n_{sv}}(\\alpha_{i}-\\alpha _{i}^{*})K(x,x_{i})$$\n",
        "$$st. \\ 0\\leq \\alpha _{i}^{*}\\leq C , 0\\leq \\alpha ^{i}\\leq C$$\n",
        "where 'K' is the kernel function and $n_{sv}$ is the number of support vectors. The kernel function for the Radial Basis Function is the following:\n",
        "$$K(x_{i},x)=exp(-\\gamma \\left \\|x-x_{i} \\right \\|^{2})$$\n",
        "where $\\gamma$ is a free parameter\n"
      ]
    },
    {
      "cell_type": "markdown",
      "metadata": {
        "id": "XfgJMLfEo5Br"
      },
      "source": [
        "### Splitting Data"
      ]
    },
    {
      "cell_type": "markdown",
      "metadata": {
        "id": "WuAe2yyEo5Br"
      },
      "source": [
        "The following Cell splits the data according to train:test ratio of 80:20. It does this by using a module in skleanr named train_test_split. The train:test ratio is pretty standard in litrature. X is values of the independant variables defined in the introduction and y is the value of the dependant variable defined in the introduction."
      ]
    },
    {
      "cell_type": "code",
      "metadata": {
        "id": "kPaPghoKo5Bs"
      },
      "source": [
        "from sklearn.model_selection import train_test_split\n",
        "X=np.array(l1)\n",
        "y=np.array(d6a)\n",
        "\n",
        "(X_train, X_test,\n",
        " y_train, y_test) = train_test_split(X, y,\n",
        "                                     test_size=0.2,\n",
        "                                     shuffle=True,\n",
        "                                     random_state=42)\n"
      ],
      "execution_count": null,
      "outputs": []
    },
    {
      "cell_type": "markdown",
      "metadata": {
        "id": "EYGRJ-ywo5Bs"
      },
      "source": [
        "### Generating a Pipeline"
      ]
    },
    {
      "cell_type": "markdown",
      "metadata": {
        "id": "SegpcyHMo5Bs"
      },
      "source": [
        "In the following cell I am generating a pipeline. The pipeline pre-processes the training data first in accordance to the standard scalar module. The standard scalar module standardizes features by removing the mean and scaling to unit variance. By pre-processing the data I will eliminate the bias term of the linear model generated in the feature space by Support Vector Machines. Post pre-processing, the training data is inputted in to the svm.svr model. The hyper-parameters and kernel of the svm.svr model are kept at their default values.  "
      ]
    },
    {
      "cell_type": "code",
      "metadata": {
        "id": "r8M--Y1eo5Bt",
        "outputId": "e7c1726d-0896-4732-ceac-aa23118a96ba"
      },
      "source": [
        "from sklearn.pipeline import Pipeline\n",
        "from sklearn.svm import SVR\n",
        "from sklearn import preprocessing\n",
        "\n",
        "\n",
        "scaler = preprocessing.StandardScaler()\n",
        "model = SVR(gamma='auto')\n",
        "\n",
        "X = X_train\n",
        "y = y_train\n",
        "\n",
        "pipe = Pipeline([('scale', scaler),\n",
        "                 ('SVR', model)])\n",
        "\n",
        "pipe.fit(X, y)"
      ],
      "execution_count": null,
      "outputs": [
        {
          "output_type": "execute_result",
          "data": {
            "text/plain": [
              "Pipeline(memory=None,\n",
              "         steps=[('scale',\n",
              "                 StandardScaler(copy=True, with_mean=True, with_std=True)),\n",
              "                ('SVR',\n",
              "                 SVR(C=1.0, cache_size=200, coef0=0.0, degree=3, epsilon=0.1,\n",
              "                     gamma='auto', kernel='rbf', max_iter=-1, shrinking=True,\n",
              "                     tol=0.001, verbose=False))],\n",
              "         verbose=False)"
            ]
          },
          "metadata": {
            "tags": []
          },
          "execution_count": 279
        }
      ]
    },
    {
      "cell_type": "markdown",
      "metadata": {
        "id": "KtTW9l9wo5Bt"
      },
      "source": [
        "### Initiating K-Fold Cross Validation Analysis"
      ]
    },
    {
      "cell_type": "markdown",
      "metadata": {
        "id": "2HaNkWSmo5Bt"
      },
      "source": [
        "In the following Cell I execute the steps outlined below:\n",
        " 1. Shuffling the dataset in a random manner\n",
        " 2. Split the dataset into K number of groups\n",
        " 3. For each unique K group:\n",
        "    1. I take the group as a test data set\n",
        "    2. I define the cumulation of remaining groups as a training data set\n",
        "    3. I fit a svm.svr model on the training data set and evaluate it on the test data set\n",
        "    4. I then obtain the evaluation score of the iteration and discard the model\n",
        "\n",
        "The purpose of doing the K-fold cross validation analysis is the following:\n",
        " - To determine if a particular subset of the training data set significatly decreases the quality of model\n",
        " - To test my proposed model generalizability over a multitude of testing data sets  "
      ]
    },
    {
      "cell_type": "code",
      "metadata": {
        "id": "C7oBv52Po5Bu",
        "outputId": "a83e6855-ce40-4f0d-973d-4687e3fa099e"
      },
      "source": [
        "from sklearn.model_selection import KFold\n",
        "\n",
        "kf = KFold(n_splits=5)\n",
        "\n",
        "for i, (train, test) in enumerate(kf.split(X)):\n",
        "    pipe.fit(X[train], y[train])\n",
        "    print(f'The score of training and testing data set for K fold {i+1}')\n",
        "    print(pipe.score(X[train], y[train]), pipe.score(X[test], y[test]))\n"
      ],
      "execution_count": null,
      "outputs": [
        {
          "output_type": "stream",
          "text": [
            "The score of training and testing data set for K fold 1\n",
            "0.9519955403184469 0.9150309349429788\n",
            "The score of training and testing data set for K fold 2\n",
            "0.9473037162342374 0.9474210161639565\n",
            "The score of training and testing data set for K fold 3\n",
            "0.9519515200150067 0.914971468106913\n",
            "The score of training and testing data set for K fold 4\n",
            "0.950425959389802 0.9375749318964238\n",
            "The score of training and testing data set for K fold 5\n",
            "0.9487173752877914 0.9428646443138362\n"
          ],
          "name": "stdout"
        }
      ]
    },
    {
      "cell_type": "markdown",
      "metadata": {
        "id": "RE7THd_oo5Bu"
      },
      "source": [
        "As shown in the results above, I executed 5 folds. In each fold the scores were very high for both the training and testing data set. This shows my proposed model is very robust and ranks high in terms of generalizability. Furthermore the scores for each fold were very similar, that implies no subset of the training data set has a significant negative impact on my model's quality."
      ]
    },
    {
      "cell_type": "code",
      "metadata": {
        "id": "jZmJtRfIo5Bu",
        "outputId": "30af0bcd-f155-47f8-a3c7-cda4d29b2f53"
      },
      "source": [
        "from sklearn.model_selection import cross_val_score\n",
        "\n",
        "scores = cross_val_score(pipe, X, y, cv=5)\n",
        "print(scores)\n",
        "print(f\"Accuracy of model: {scores.mean():0.2f} (+/- {scores.std() * 2:0.2f})\")"
      ],
      "execution_count": null,
      "outputs": [
        {
          "output_type": "stream",
          "text": [
            "[0.91503093 0.94742102 0.91497147 0.93757493 0.94286464]\n",
            "Accuracy of model: 0.93 (+/- 0.03)\n"
          ],
          "name": "stdout"
        }
      ]
    },
    {
      "cell_type": "markdown",
      "metadata": {
        "id": "RT3q9Aw0o5Bv"
      },
      "source": [
        "The above score takes an average of the scores obtained during the K-fold cross validation analysis. The high average score reiterates the good quality of the model. The error associated with the mean of the scores is the standard deviation of scores obtained during the K-fold analysis.   "
      ]
    },
    {
      "cell_type": "markdown",
      "metadata": {
        "id": "IYLto8zKo5Bv"
      },
      "source": [
        "### Tuning/Optimizing Hyper Parameters of Proposed Model"
      ]
    },
    {
      "cell_type": "markdown",
      "metadata": {
        "id": "OKlZ0640o5Bv"
      },
      "source": [
        "In the following cells I refine the proposed model executed by the first pipeline by tuning the hyper parameter of the svm.svr model. The hyper parameters I will be tuning are the: cost coefficient, epsilon and gamma. I am tuning the hyper parameters for two kernels. The two kernels are the linear kernel and the Radial basis function kernel. To tune the hyper parameters for each kernel I use the GridSearchCV module on sklearn. While GridSearchCV has a significant overhead it is very extensive and exhaustive. To attempt to decrease the overhead I specify the range of values for each hyper parameter over which GridSearchCV searches. These range of values come from literature.  "
      ]
    },
    {
      "cell_type": "code",
      "metadata": {
        "id": "Mr1Ci4F9o5Bv",
        "outputId": "385a7143-a332-4535-9e6e-1cec05d843ee"
      },
      "source": [
        "from sklearn.pipeline import Pipeline\n",
        "from sklearn.svm import SVR\n",
        "from sklearn import preprocessing\n",
        "\n",
        "\n",
        "scaler = preprocessing.StandardScaler()\n",
        "model = SVR(gamma='auto')\n",
        "\n",
        "X = X_train\n",
        "y = y_train\n",
        "\n",
        "pipe4 = Pipeline([('scale', scaler),\n",
        "                 ('SVR', model)])\n",
        "\n",
        "pipe4.fit(X, y)"
      ],
      "execution_count": null,
      "outputs": [
        {
          "output_type": "execute_result",
          "data": {
            "text/plain": [
              "Pipeline(memory=None,\n",
              "         steps=[('scale',\n",
              "                 StandardScaler(copy=True, with_mean=True, with_std=True)),\n",
              "                ('SVR',\n",
              "                 SVR(C=1.0, cache_size=200, coef0=0.0, degree=3, epsilon=0.1,\n",
              "                     gamma='auto', kernel='rbf', max_iter=-1, shrinking=True,\n",
              "                     tol=0.001, verbose=False))],\n",
              "         verbose=False)"
            ]
          },
          "metadata": {
            "tags": []
          },
          "execution_count": 282
        }
      ]
    },
    {
      "cell_type": "markdown",
      "metadata": {
        "id": "2iqGSvXGo5Bv"
      },
      "source": [
        "In the previous cell I developed a second pipeline. The purpose of the second pipeline is to use it for a grid search, which in turn tunes hyper parameters. This pipeline is exactly the same as the first pipeline."
      ]
    },
    {
      "cell_type": "code",
      "metadata": {
        "id": "-QMCIqh1o5Bw",
        "outputId": "1ace19b7-23dc-46f0-a1be-8bca32c39bc2"
      },
      "source": [
        "pipe4.get_params().keys()"
      ],
      "execution_count": null,
      "outputs": [
        {
          "output_type": "execute_result",
          "data": {
            "text/plain": [
              "dict_keys(['memory', 'steps', 'verbose', 'scale', 'SVR', 'scale__copy', 'scale__with_mean', 'scale__with_std', 'SVR__C', 'SVR__cache_size', 'SVR__coef0', 'SVR__degree', 'SVR__epsilon', 'SVR__gamma', 'SVR__kernel', 'SVR__max_iter', 'SVR__shrinking', 'SVR__tol', 'SVR__verbose'])"
            ]
          },
          "metadata": {
            "tags": []
          },
          "execution_count": 283
        }
      ]
    },
    {
      "cell_type": "markdown",
      "metadata": {
        "id": "K2nCN_97o5Bw"
      },
      "source": [
        "In the following cell I am tuning the hyper parameters over a pre-determined range. The kernel being used for the tuning process is the Radial Basis function. The first three lines of the following cell display the pre-defined range of the hyper-parameters."
      ]
    },
    {
      "cell_type": "code",
      "metadata": {
        "id": "z85NaGzjo5Bw",
        "outputId": "56f193d5-4fcf-4c6e-dc4b-d920018fda94"
      },
      "source": [
        "pC= np.arange(100, 130)\n",
        "pG= np.arange(0.013, 0.019, 0.002)\n",
        "pE= np.arange(0.0008, 0.0014, 0.0001)\n",
        "\n",
        "tuned_parameters = [{'SVR__kernel': ['rbf'], 'SVR__gamma': pG,\n",
        "                     'SVR__C': pC, 'SVR__epsilon': pE} ]\n",
        "\n",
        "\n",
        "from sklearn.model_selection import GridSearchCV\n",
        "\n",
        "clf = GridSearchCV(pipe4 , tuned_parameters, cv=5)\n",
        "clf.fit(X_train, y_train)\n",
        "\n",
        "print('The following are the values of the tuned hyper-parameters:')\n",
        "print(clf.best_params_)"
      ],
      "execution_count": null,
      "outputs": [
        {
          "output_type": "stream",
          "text": [
            "The following are the values of the tuned hyper-parameters:\n",
            "{'SVR__C': 129, 'SVR__epsilon': 0.0009000000000000001, 'SVR__gamma': 0.017, 'SVR__kernel': 'rbf'}\n"
          ],
          "name": "stdout"
        }
      ]
    },
    {
      "cell_type": "markdown",
      "metadata": {
        "id": "_T3flXYHo5Bw"
      },
      "source": [
        "In the following cell I am tuning the hyper parameters over a pre-determined range. The kernel being used for the tuning process is the Linear function. The first two lines of the following cell display the pre-defined range of the hyper-parameters. Gamma is not being tuned in the following cell as gamma is not used in the linear kernel."
      ]
    },
    {
      "cell_type": "code",
      "metadata": {
        "id": "uaDztbudo5Bw",
        "outputId": "944c12a3-97d3-4d73-88d4-8d77b88d505d"
      },
      "source": [
        "pC= np.arange(250, 270)\n",
        "pE= np.arange(0.0015, 0.0019, 0.0002)\n",
        "\n",
        "tuned_parameters = [{'SVR__kernel': ['linear'], \n",
        "                     'SVR__C': pC, 'SVR__epsilon': pE} ]\n",
        "\n",
        "\n",
        "from sklearn.model_selection import GridSearchCV\n",
        "\n",
        "clf = GridSearchCV(pipe4 , tuned_parameters, cv=5)\n",
        "clf.fit(X_train, y_train)\n",
        "\n",
        "print('The following are the values of the tuned hyper-parameters:')\n",
        "print(clf.best_params_)"
      ],
      "execution_count": null,
      "outputs": [
        {
          "output_type": "stream",
          "text": [
            "The following are the values of the tuned hyper-parameters:\n",
            "{'SVR__C': 261, 'SVR__epsilon': 0.0017000000000000001, 'SVR__kernel': 'linear'}\n"
          ],
          "name": "stdout"
        }
      ]
    },
    {
      "cell_type": "markdown",
      "metadata": {
        "id": "sSuX5kC2o5Bx"
      },
      "source": [
        "### Generating Two pipelines With Different Kernels and Specified Values for Hyper-parameters "
      ]
    },
    {
      "cell_type": "markdown",
      "metadata": {
        "id": "wk4Wr20Zo5Bx"
      },
      "source": [
        "The following two cells develops two pipelines. The first pipeline is name pipe5. pipe5 preprocesses its data the same way as the first two pipelines. The model part of pipe5 uses svm.svr with a radial basis function kernel and the relevant tuned values obtained in the previous section for the hyper-parameters. The second pipeline is name pipe6. pipe6 preprocesses its data the same way as the first two pipelines. The model part of pipe6 uses svm.svr with a linear kernel and the relevant tuned values obtained in the previous section for the hyper-parameters."
      ]
    },
    {
      "cell_type": "code",
      "metadata": {
        "id": "46Ahel_So5Bx",
        "outputId": "19e31e69-5dc4-4d37-ea94-6777035f1f1e"
      },
      "source": [
        "from sklearn.pipeline import Pipeline\n",
        "from sklearn.svm import SVR\n",
        "from sklearn import preprocessing\n",
        "\n",
        "\n",
        "scaler = preprocessing.StandardScaler()\n",
        "model = SVR(gamma=0.017, epsilon=0.0009000000000000001, C=129, kernel='rbf')\n",
        "\n",
        "X1 = X_train\n",
        "y1 = y_train\n",
        "\n",
        "pipe5 = Pipeline([('scale', scaler),\n",
        "                 ('SVR', model)])\n",
        "\n",
        "pipe5.fit(X1, y1)"
      ],
      "execution_count": null,
      "outputs": [
        {
          "output_type": "execute_result",
          "data": {
            "text/plain": [
              "Pipeline(memory=None,\n",
              "         steps=[('scale',\n",
              "                 StandardScaler(copy=True, with_mean=True, with_std=True)),\n",
              "                ('SVR',\n",
              "                 SVR(C=129, cache_size=200, coef0=0.0, degree=3,\n",
              "                     epsilon=0.0009000000000000001, gamma=0.017, kernel='rbf',\n",
              "                     max_iter=-1, shrinking=True, tol=0.001, verbose=False))],\n",
              "         verbose=False)"
            ]
          },
          "metadata": {
            "tags": []
          },
          "execution_count": 284
        }
      ]
    },
    {
      "cell_type": "code",
      "metadata": {
        "id": "3MDpvXc8o5Bx",
        "outputId": "b6d58987-731f-476b-e469-94f80b3d47ed"
      },
      "source": [
        "from sklearn.pipeline import Pipeline\n",
        "from sklearn.svm import SVR\n",
        "from sklearn import preprocessing\n",
        "\n",
        "\n",
        "scaler = preprocessing.StandardScaler()\n",
        "model = SVR(epsilon=0.0017000000000000001, C=261, kernel='linear')\n",
        "\n",
        "X2 = X_train\n",
        "y2 = y_train\n",
        "\n",
        "pipe6 = Pipeline([('scale', scaler),\n",
        "                 ('SVR', model)])\n",
        "\n",
        "pipe6.fit(X2, y2)"
      ],
      "execution_count": null,
      "outputs": [
        {
          "output_type": "execute_result",
          "data": {
            "text/plain": [
              "Pipeline(memory=None,\n",
              "         steps=[('scale',\n",
              "                 StandardScaler(copy=True, with_mean=True, with_std=True)),\n",
              "                ('SVR',\n",
              "                 SVR(C=261, cache_size=200, coef0=0.0, degree=3,\n",
              "                     epsilon=0.0017000000000000001, gamma='auto_deprecated',\n",
              "                     kernel='linear', max_iter=-1, shrinking=True, tol=0.001,\n",
              "                     verbose=False))],\n",
              "         verbose=False)"
            ]
          },
          "metadata": {
            "tags": []
          },
          "execution_count": 285
        }
      ]
    },
    {
      "cell_type": "markdown",
      "metadata": {
        "id": "jHyqsrwAo5Bx"
      },
      "source": [
        "# Results/Disscussion"
      ]
    },
    {
      "cell_type": "markdown",
      "metadata": {
        "id": "Qt4vGPyBo5By"
      },
      "source": [
        "In the following cell I am using the model formulated in pipe5 and the independent variable values in the test data set to predict the dependent variable values (Solar Irradiance). The units of the predicted values is $\\frac{kW*hr}{m^{2}*day}$"
      ]
    },
    {
      "cell_type": "code",
      "metadata": {
        "id": "n74jHzPZo5By",
        "outputId": "c27829a6-3c6a-4404-a8de-a1557e5f2f9b"
      },
      "source": [
        "pipe5.predict(X_test)"
      ],
      "execution_count": null,
      "outputs": [
        {
          "output_type": "execute_result",
          "data": {
            "text/plain": [
              "array([9.08129242, 5.72215112, 6.97752806, 7.67095077, 6.66181071,\n",
              "       8.24767749, 6.10265925, 7.64619081, 9.28159988, 7.08076628,\n",
              "       6.50441996, 5.41932962, 8.20196377, 6.33021759, 8.14815958,\n",
              "       7.43618656, 8.18982278, 9.09569642, 7.85651769, 7.68584534,\n",
              "       6.29257667, 8.63650906, 7.84955673, 9.72368993, 8.82383856,\n",
              "       9.32859901, 9.27354118, 8.12417753, 7.07297302, 6.47796206,\n",
              "       5.05101113, 7.85907793, 6.28240353, 6.63131612, 9.29495573,\n",
              "       7.94367006, 6.46582967, 6.21857531, 6.96374583, 6.42996588,\n",
              "       9.52052373, 7.42183243, 5.39560637, 8.34973673, 6.79928763,\n",
              "       9.30073881, 7.60531307, 6.82944968, 8.33986791, 5.69310851,\n",
              "       9.06031333, 7.16437953, 9.18093754, 8.34736737, 9.29070689,\n",
              "       6.499623  , 7.74997533, 7.15256901, 6.89382544, 6.51086296,\n",
              "       9.61120971, 6.33426046, 6.44711522, 5.33373705, 7.92796111,\n",
              "       8.07313755, 8.89410033, 7.41513615, 9.30146511, 7.50955293,\n",
              "       6.74845755, 8.30143519, 8.14981545])"
            ]
          },
          "metadata": {
            "tags": []
          },
          "execution_count": 286
        }
      ]
    },
    {
      "cell_type": "markdown",
      "metadata": {
        "id": "YJoIU6Qmo5By"
      },
      "source": [
        "The following cell displays the dependant varaible (Solar Irradiance) values from the test data set."
      ]
    },
    {
      "cell_type": "code",
      "metadata": {
        "id": "oY2XCl0Jo5By",
        "outputId": "a0569e46-fa53-4dd8-fe27-a9daea665015"
      },
      "source": [
        "y_test"
      ],
      "execution_count": null,
      "outputs": [
        {
          "output_type": "execute_result",
          "data": {
            "text/plain": [
              "array([8.39, 5.46, 7.42, 7.32, 7.1 , 8.52, 6.89, 7.41, 9.38, 7.42, 6.03,\n",
              "       4.62, 7.61, 6.21, 8.37, 6.96, 7.77, 8.9 , 7.9 , 7.66, 7.04, 8.71,\n",
              "       7.89, 9.76, 9.3 , 9.4 , 9.42, 8.52, 7.12, 6.01, 4.84, 7.69, 5.7 ,\n",
              "       6.74, 9.63, 7.99, 6.42, 6.39, 6.78, 6.39, 9.82, 7.83, 5.44, 8.3 ,\n",
              "       6.58, 9.75, 7.55, 6.57, 8.52, 5.81, 9.33, 6.52, 8.63, 8.  , 9.24,\n",
              "       6.72, 7.62, 6.86, 6.27, 6.96, 9.8 , 6.69, 7.26, 5.19, 8.19, 8.02,\n",
              "       9.34, 6.75, 9.35, 7.6 , 7.03, 8.88, 7.94])"
            ]
          },
          "metadata": {
            "tags": []
          },
          "execution_count": 287
        }
      ]
    },
    {
      "cell_type": "markdown",
      "metadata": {
        "id": "6XVtpYd9o5By"
      },
      "source": [
        "In the following cell I am using the model formulated in pipe6 and the independent variable values in the test data set to predict the dependent variable values (Solar Irradiance). The units of the predicted values is $\\frac{kW*hr}{m^{2}*day}$"
      ]
    },
    {
      "cell_type": "code",
      "metadata": {
        "id": "vViNIHSao5Bz",
        "outputId": "67b6ea06-ff10-46c3-fe87-61272789d559"
      },
      "source": [
        "pipe6.predict(X_test)"
      ],
      "execution_count": null,
      "outputs": [
        {
          "output_type": "execute_result",
          "data": {
            "text/plain": [
              "array([8.92475506, 5.72670248, 7.200001  , 7.43609888, 6.68879259,\n",
              "       8.26723694, 6.13106026, 7.71384965, 9.25118247, 7.1303906 ,\n",
              "       6.67681944, 5.46828402, 8.00801052, 6.2950673 , 7.98400302,\n",
              "       7.29401629, 8.04305298, 9.02931065, 7.80489065, 7.49602066,\n",
              "       6.22538251, 8.49465974, 7.77556824, 9.91203104, 8.88711491,\n",
              "       9.32627935, 9.23421292, 8.16644603, 7.20535293, 6.55863662,\n",
              "       5.06264134, 7.7452262 , 6.20859253, 6.62904028, 9.18813447,\n",
              "       7.74596915, 6.31774456, 6.16723581, 7.24250451, 6.34071804,\n",
              "       9.4438973 , 7.49966961, 5.6216461 , 8.20827851, 7.06226444,\n",
              "       9.43753037, 7.62926084, 6.90302022, 8.26724057, 5.44051681,\n",
              "       9.15772062, 6.98045345, 9.10231485, 8.35199652, 9.35563768,\n",
              "       6.40909856, 7.72052692, 7.13444384, 6.9205164 , 6.5253593 ,\n",
              "       9.59862429, 6.34076163, 6.46480744, 5.32542801, 8.16221645,\n",
              "       8.17720182, 8.99648837, 7.46806994, 9.32429723, 7.33520681,\n",
              "       6.64025356, 8.51217844, 7.9858023 ])"
            ]
          },
          "metadata": {
            "tags": []
          },
          "execution_count": 288
        }
      ]
    },
    {
      "cell_type": "markdown",
      "metadata": {
        "id": "3XOT2N3Uo5Bz"
      },
      "source": [
        "In the following two cells I display two graphs. In the first graph I plot predicted values from pipe5 and the real values from the test data set. In the second graph I plot predicted values from pipe6 and the real values from the test data set. In both graphs the y axis is the dependent variable (Solar irradiance) and the x axis is days. I plotted these two graph visualize the difference between the predicted and real values.  "
      ]
    },
    {
      "cell_type": "code",
      "metadata": {
        "id": "1crZ6_N0o5Bz",
        "outputId": "2101fd61-cae8-4e4d-e98b-744a62773ce8"
      },
      "source": [
        "%matplotlib inline\n",
        "import matplotlib.pyplot as plt\n",
        "t=np.array(range(1,74))\n",
        "line1= plt.plot(t,pipe5.predict(X_test), label='pipe5 predicted')\n",
        "line2= plt.plot(t,y_test, label='real test values')\n",
        "plt.xlabel('Days')\n",
        "plt.ylabel('Solar Irradiance(kW-hr/m^2/day)')\n",
        "plt.title('Solar Irradiance Vs. Days')\n",
        "plt.legend()"
      ],
      "execution_count": null,
      "outputs": [
        {
          "output_type": "execute_result",
          "data": {
            "text/plain": [
              "<matplotlib.legend.Legend at 0x2211850dcf8>"
            ]
          },
          "metadata": {
            "tags": []
          },
          "execution_count": 320
        },
        {
          "output_type": "display_data",
          "data": {
            "image/png": "[encoded data removed]",
            "text/plain": [
              "<Figure size 432x288 with 1 Axes>"
            ]
          },
          "metadata": {
            "tags": [],
            "needs_background": "light"
          }
        }
      ]
    },
    {
      "cell_type": "markdown",
      "metadata": {
        "id": "PREd1aRqo5Bz"
      },
      "source": [
        "From the graph above it be inferred that pipe5 predicted values do follow the general trend of the real data. It seems that whenever there is abrupt change in slope, the model does not predict accurate values. The reason behind this might be the models inability to model trends that are discontinuous in nature."
      ]
    },
    {
      "cell_type": "code",
      "metadata": {
        "id": "fdSo90dGo5B0",
        "outputId": "114761b5-06fd-4bca-abc4-6e0e17e8881e"
      },
      "source": [
        "%matplotlib inline\n",
        "import matplotlib.pyplot as plt\n",
        "t=np.array(range(1,74))\n",
        "line1= plt.plot(t,pipe6.predict(X_test), label='pipe6 predicted')\n",
        "line2= plt.plot(t,y_test, label='real test values')\n",
        "plt.xlabel('Days')\n",
        "plt.ylabel('Solar Irradiance(kW-hr/m^2/day)')\n",
        "plt.title('Solar Irradiance Vs. Days')\n",
        "plt.legend()"
      ],
      "execution_count": null,
      "outputs": [
        {
          "output_type": "execute_result",
          "data": {
            "text/plain": [
              "<matplotlib.legend.Legend at 0x22118579908>"
            ]
          },
          "metadata": {
            "tags": []
          },
          "execution_count": 321
        },
        {
          "output_type": "display_data",
          "data": {
            "image/png": "[encoded data removed]",
            "text/plain": [
              "<Figure size 432x288 with 1 Axes>"
            ]
          },
          "metadata": {
            "tags": [],
            "needs_background": "light"
          }
        }
      ]
    },
    {
      "cell_type": "markdown",
      "metadata": {
        "id": "kMa3KB2Qo5B0"
      },
      "source": [
        "From the graph above it be inferred that pipe6 predicted values do follow the general trend of the real data. pipe5 and pipe6 from a visual perspective predict values of similar quality. In the cell below I am calculating the root mean square error for model pipe5 and model pipe6.By doing this I can better understand, which model is of a higher quality."
      ]
    },
    {
      "cell_type": "code",
      "metadata": {
        "id": "9Y7Mmgfdo5B0",
        "outputId": "65df6957-0424-45af-9798-25507008336c"
      },
      "source": [
        "import sklearn\n",
        "import math\n",
        "\n",
        "mse = sklearn.metrics.mean_squared_error(y_test, pipe5.predict(X_test))\n",
        "\n",
        "rmse = math.sqrt(mse)\n",
        "\n",
        "mse1 = sklearn.metrics.mean_squared_error(y_test, pipe6.predict(X_test))\n",
        "\n",
        "rmse1 = math.sqrt(mse1)\n",
        "\n",
        "\n",
        "print(f'The root mean square error for pipe5 is {rmse}')\n",
        "print(f'The root mean square error for pipe6 is {rmse1}')"
      ],
      "execution_count": null,
      "outputs": [
        {
          "output_type": "stream",
          "text": [
            "The root mean square error for pipe5 is 0.3657674133042996\n",
            "The root mean square error for pipe6 is 0.36122324273492634\n"
          ],
          "name": "stdout"
        }
      ]
    },
    {
      "cell_type": "markdown",
      "metadata": {
        "id": "BzonRiyro5B0"
      },
      "source": [
        "From the values published above, it can be understood that the quality of both models is pretty similar. However model pipe6 that is executed with the linear function kernel does predict slightly better quality values as it has a lower root mean square error. "
      ]
    },
    {
      "cell_type": "markdown",
      "metadata": {
        "id": "Fk6J_VOfo5B0"
      },
      "source": [
        "# Conclusion/Evaluation"
      ]
    },
    {
      "cell_type": "markdown",
      "metadata": {
        "id": "t6R2hBdCo5B1"
      },
      "source": [
        "The two models generated in this project use Support Vector Machine-Regression. One of the model uses a Linear kernel and the other model uses a Radial Basis Function kernel. The training data set for both models have undergone preprocessing and have been standardized. The hyper-parameters have been tuned through the aide of literature and GridSearchCV. After refining the two models, the models have predicted values of decent quality. The root mean square error associated with both models is relatively low. The model that uses the linear kernel seems to be of higher quality. There are a number of limitations of the two models generated, the following are few of the limitations:\n",
        " - The testing and training data sets of both models represent a relatively small time horizon. This negatively effects the generalizability of the models\n",
        " - I have not done a sensitivity analysis of the independent variables. Therefore I may have to many features integrated in the model which may be leading to over fitting\n",
        " - This model may not be accurate if we test it on values obtained in 2020 as the training data is very old\n"
      ]
    },
    {
      "cell_type": "markdown",
      "metadata": {
        "id": "ykonXHBro5B1"
      },
      "source": [
        "# Citations"
      ]
    },
    {
      "cell_type": "markdown",
      "metadata": {
        "id": "foN317gpo5B1"
      },
      "source": [
        "- https://medium.com/datadriveninvestor/an-introduction-to-grid-search-ff57adcc0998\n",
        "- https://scikit-learn.org/stable/modules/svm.html#regression\n",
        "- https://ieeexplore.ieee.org/document/6102379\n",
        "- https://scikit-learn.org/stable/modules/generated/sklearn.preprocessing.StandardScaler.html\n",
        "- https://machinelearningmastery.com/k-fold-cross-validation/\n",
        "- https://en.wikipedia.org/wiki/Radial_basis_function_kernel\n",
        "- https://medium.com/machine-learning-101/chapter-2-svm-support-vector-machine-theory-f0812effc72\n",
        "\n"
      ]
    }
  ]
}